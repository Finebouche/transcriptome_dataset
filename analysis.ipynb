{
 "cells": [
  {
   "cell_type": "code",
   "execution_count": null,
   "id": "initial_id",
   "metadata": {
    "collapsed": true
   },
   "outputs": [],
   "source": [
    "import pandas as pd\n",
    "\n",
    "file_path = 'data/Supplemental_Data_Raw_Genecounts.csv'\n",
    "\n",
    "# Load the CSV file into a DataFrame.\n",
    "df = pd.read_csv(file_path)\n",
    "df = df.drop('Unnamed: 17', axis=1)\n",
    "df = df.rename(columns={\"Unnamed: 0\": \"mnra\",})\n",
    "df.set_index('mnra', inplace=True)\n",
    "# Convert every non-index column to int\n",
    "df = df.apply(pd.to_numeric, errors='coerce', downcast='integer')\n",
    "\n",
    "# Pruning rows where all the values are 0.\n",
    "# Assuming that you have columns 'x' and 'y', replace them with the actual names of your columns.\n",
    "print(df.shape)\n",
    "df = df[(df.loc[:, df.columns != 'index'] != 0).any(axis=1)]\n"
   ]
  },
  {
   "cell_type": "code",
   "execution_count": null,
   "outputs": [],
   "source": [
    "columns_to_check = df.columns.difference(['Unnamed: 0'])\n",
    "\n",
    "# Pruning rows where all the values in columns_to_check are 0.\n",
    "df = df[(df[columns_to_check] != 0).any(axis=1)]\n"
   ],
   "metadata": {
    "collapsed": false
   },
   "id": "6b5dd579777c0d6d"
  },
  {
   "cell_type": "code",
   "execution_count": null,
   "outputs": [],
   "source": [
    "df.shape"
   ],
   "metadata": {
    "collapsed": false
   },
   "id": "777c7d51c5dd2033"
  },
  {
   "cell_type": "code",
   "execution_count": null,
   "outputs": [],
   "source": [
    "df.columns"
   ],
   "metadata": {
    "collapsed": false
   },
   "id": "1fd64f5081067189"
  },
  {
   "cell_type": "code",
   "execution_count": null,
   "outputs": [],
   "source": [
    "import matplotlib.pyplot as plt\n",
    "\n",
    "# Calculating the mean and standard deviation for each row\n",
    "df['mean'] = df[columns_to_check].mean(axis=1)\n",
    "df['std'] = df[columns_to_check].std(axis=1)\n",
    "df['cv'] = (df.std(axis=1) / df.mean(axis=1)).abs() * 100\n",
    "\n",
    "import numpy as np\n",
    "\n",
    "# Generate a color map\n",
    "colors = plt.cm.viridis(np.linspace(0, 1, len(df)))\n",
    "\n",
    "plt.figure(figsize=(10, 6))\n",
    "for idx, color in zip(df.index, colors):\n",
    "    plt.errorbar(idx, df.loc[idx, 'mean'], yerr=df.loc[idx, 'std'], fmt='o', color=color)\n",
    "\n",
    "plt.title('Mean and Variability of Each Sample')\n",
    "plt.xlabel('Sample Index')\n",
    "plt.ylabel('Mean')\n",
    "plt.grid(True)\n",
    "plt.show()"
   ],
   "metadata": {
    "collapsed": false
   },
   "id": "3d4f80fb0bb91c4c"
  },
  {
   "cell_type": "code",
   "execution_count": null,
   "outputs": [],
   "source": [
    "# Plotting histogram for df['cv']\n",
    "plt.figure(figsize=(10,6))\n",
    "plt.hist(df['cv'], bins=200, color='blue', edgecolor='black')\n",
    "plt.title('Histogram of Coefficient of Variation (CV)')\n",
    "plt.xlabel('CV')\n",
    "plt.ylabel('Frequency')\n",
    "plt.grid(True)\n",
    "plt.show()\n",
    "\n",
    "# Plotting histogram for df['mean']\n",
    "plt.figure(figsize=(10,6))\n",
    "plt.hist(df['mean'], bins=200, color='green', edgecolor='black')\n",
    "plt.title('Histogram of Mean')\n",
    "plt.xlabel('Mean')\n",
    "plt.ylabel('Frequency')\n",
    "plt.grid(True)\n",
    "plt.show()"
   ],
   "metadata": {
    "collapsed": false
   },
   "id": "52db739acf122215"
  },
  {
   "cell_type": "code",
   "execution_count": null,
   "outputs": [],
   "source": [
    "import seaborn as sns\n",
    "\n",
    "# Or, if you want to plot the raw counts or normalized counts, you can skip the correlation computation and directly plot the DataFrame\n",
    "plt.figure(figsize=(10, 10))  # You can specify the figure size as per your requirement\n",
    "\n",
    "n = 50  # You can set the number of genes you want to display\n",
    "df_high_variance = df.loc[df.var(axis=1).nlargest(n).index]\n",
    "\n",
    "\n",
    "# Plot the heatmap\n",
    "sns.heatmap(df_high_variance, cmap='coolwarm', center=0, linewidths=.5)  # You can customize the colormap, center value, and linewidths\n",
    "\n",
    "# Add title and labels if needed\n",
    "plt.title('Heatmap of Gene Expressions')\n",
    "plt.xlabel('Samples/Conditions')\n",
    "plt.ylabel('Genes')\n",
    "\n",
    "# Show the plot\n",
    "plt.show()\n"
   ],
   "metadata": {
    "collapsed": false
   },
   "id": "bb7a2b5bfba33a85"
  },
  {
   "cell_type": "markdown",
   "source": [
    "## Differential expression analysis"
   ],
   "metadata": {
    "collapsed": false
   },
   "id": "33d4164c559ba84"
  },
  {
   "cell_type": "code",
   "execution_count": null,
   "outputs": [],
   "source": [
    "from statsmodels.stats import multitest\n",
    "from scipy import stats\n",
    "import itertools\n",
    "from joblib import Parallel, delayed\n",
    "from tqdm import tqdm\n",
    "\n",
    "# Define the function to perform the t-test for a given pair of conditions and a given gene\n",
    "def perform_ttest(condition_1, condition_2, gene_row):\n",
    "    condition_1_data = gene_row[condition_1]\n",
    "    condition_2_data = gene_row[condition_2]\n",
    "    \n",
    "    # If the variance is zero for both conditions, skip the t-test\n",
    "    if np.var([condition_1_data]) == 0 and np.var([condition_2_data]) == 0:\n",
    "        return {\n",
    "            'condition_1': condition_1,\n",
    "            'condition_2': condition_2,\n",
    "            'gene': gene_row.name,\n",
    "            'mean_condition_1': condition_1_data,\n",
    "            'mean_condition_2': condition_2_data,\n",
    "            'p_value': np.nan  # or return some default p_value, like 1.0\n",
    "        }\n",
    "    \n",
    "    # Compute the mean expression level for each condition\n",
    "    mean_condition_1 = np.mean(condition_1_data)\n",
    "    mean_condition_2 = np.mean(condition_2_data)\n",
    "    \n",
    "    # Perform a t-test between the two conditions\n",
    "    t_stat, p_value = stats.ttest_ind([condition_1_data], [condition_2_data], equal_var=False, nan_policy='omit')\n",
    "    \n",
    "    return {\n",
    "        'condition_1': condition_1,\n",
    "        'condition_2': condition_2,\n",
    "        'gene': gene_row.name,\n",
    "        'mean_condition_1': mean_condition_1,\n",
    "        'mean_condition_2': mean_condition_2,\n",
    "        'p_value': p_value\n",
    "    }\n",
    "\n",
    "# Get all condition columns\n",
    "condition_columns = df.columns\n",
    "\n",
    "\n",
    "# Create a list to store the tasks\n",
    "tasks = []\n",
    "\n",
    "# Initialize the progress bar\n",
    "total_combinations = len(list(itertools.combinations(condition_columns, 2))) * len(df.index)\n",
    "progress_bar = tqdm(total=total_combinations, desc='Generating tasks', unit='task')\n",
    "\n",
    "# Generate all tasks (pairs of conditions and genes) with progress update\n",
    "for condition_1, condition_2 in itertools.combinations(condition_columns, 2):\n",
    "    for gene in df.index:\n",
    "        tasks.append((condition_1, condition_2, df.loc[gene]))\n",
    "        progress_bar.update(1)\n",
    "\n",
    "# Close the progress bar\n",
    "progress_bar.close()\n"
   ],
   "metadata": {
    "collapsed": false
   },
   "id": "1fcd8ff4e2b9ede1"
  },
  {
   "cell_type": "code",
   "execution_count": null,
   "outputs": [],
   "source": [
    "\n",
    "# Perform the tasks in parallel with progress bar\n",
    "results_list = Parallel(n_jobs=-1)(delayed(perform_ttest)(condition_1, condition_2, gene_row) for condition_1, condition_2, gene_row in tqdm(tasks, desc='Processing', unit='task'))\n",
    "\n",
    "# Convert the results list to a DataFrame\n",
    "results_df = pd.DataFrame(results_list)\n",
    "\n",
    "# Correct for multiple testing (optional)\n",
    "results_df['adjusted_p_value'] = multitest.multipletests(results_df['p_value'], method='fdr_bh')[1]\n",
    "\n",
    "# You can filter the results based on a significance threshold, e.g. adjusted p-value < 0.05\n",
    "significant_results = results_df[results_df['adjusted_p_value'] < 0.05]\n"
   ],
   "metadata": {
    "collapsed": false
   },
   "id": "b1e7c25e31952f5b"
  },
  {
   "cell_type": "code",
   "execution_count": null,
   "outputs": [],
   "source": [
    "results_df.columns"
   ],
   "metadata": {
    "collapsed": false
   },
   "id": "6dbf6d237d5cf343"
  },
  {
   "cell_type": "markdown",
   "source": [
    "### Volcano plot"
   ],
   "metadata": {
    "collapsed": false
   },
   "id": "e7ac0ebf5eb36a03"
  },
  {
   "cell_type": "code",
   "execution_count": null,
   "outputs": [],
   "source": [
    "from scipy import stats\n",
    "import numpy as np\n",
    "\n",
    "# Define the groups you want to compare\n",
    "group_a_cols = [col for col in df.columns if 'A' in col]\n",
    "group_b_cols = [col for col in df.columns if 'B' in col]\n",
    "\n",
    "# Create an empty DataFrame to store the results\n",
    "results_df = pd.DataFrame(columns=['gene', 'mean_group_a', 'mean_group_b', 'p_value'])\n",
    "\n",
    "for index, row in df.iterrows():\n",
    "    group_a_data = row[group_a_cols]\n",
    "    group_b_data = row[group_b_cols]\n",
    "    \n",
    "    # Compute the mean expression level for each group\n",
    "    mean_group_a = np.mean(group_a_data)\n",
    "    mean_group_b = np.mean(group_b_data)\n",
    "    \n",
    "    # Perform a t-test between the two groups\n",
    "    t_stat, p_value = stats.ttest_ind(group_a_data, group_b_data, equal_var=False, nan_policy='omit')\n",
    "    \n",
    "    # Append the results to the results DataFrame\n",
    "    results_df = results_df.append({\n",
    "        'gene': index,\n",
    "        'mean_group_a': mean_group_a,\n",
    "        'mean_group_b': mean_group_b,\n",
    "        'p_value': p_value\n",
    "    }, ignore_index=True)\n",
    "\n",
    "# Correct for multiple testing (optional)\n",
    "results_df['adjusted_p_value'] = multitest.multipletests(results_df['p_value'], method='fdr_bh')[1]\n",
    "\n",
    "# Filter the results based on a significance threshold, for example, adjusted p-value < 0.05\n",
    "significant_genes = results_df[results_df['adjusted_p_value'] < 0.05]"
   ],
   "metadata": {
    "collapsed": false
   },
   "id": "39b7b9388a237add"
  },
  {
   "cell_type": "code",
   "execution_count": null,
   "outputs": [],
   "source": [
    "significant_genes.shape"
   ],
   "metadata": {
    "collapsed": false
   },
   "id": "43aaca3d0c5afb53"
  },
  {
   "cell_type": "code",
   "execution_count": null,
   "outputs": [],
   "source": [],
   "metadata": {
    "collapsed": false
   },
   "id": "97d69469e9647d90"
  },
  {
   "cell_type": "code",
   "execution_count": null,
   "outputs": [],
   "source": [],
   "metadata": {
    "collapsed": false
   },
   "id": "3ee7f28cdd33e2d"
  },
  {
   "cell_type": "code",
   "execution_count": null,
   "outputs": [],
   "source": [
    "from scipy import stats\n",
    "import pandas as pd\n",
    "import numpy as np\n",
    "import statsmodels.stats.multitest as sm\n",
    "\n",
    "# Assume df is your DataFrame with gene expression data\n",
    "\n",
    "# Define the groups you want to compare\n",
    "group_a_cols = [col for col in df.columns if 'A' in col]\n",
    "group_b_cols = [col for col in df.columns if 'B' in col]\n",
    "\n",
    "# Create an empty list to store DataFrames\n",
    "results_dfs = []\n",
    "\n",
    "for gene, row in df.iterrows():\n",
    "    group_a_data = row[group_a_cols]\n",
    "    group_b_data = row[group_b_cols]\n",
    "    \n",
    "    # Compute the mean expression level for each group\n",
    "    mean_group_a = np.mean(group_a_data)\n",
    "    mean_group_b = np.mean(group_b_data)\n",
    "    \n",
    "    # Perform a t-test between the two groups\n",
    "    t_stat, p_value = stats.ttest_ind(group_a_data, group_b_data, equal_var=False, nan_policy='omit')\n",
    "    \n",
    "    # Create a DataFrame for each gene result\n",
    "    gene_result_df = pd.DataFrame({'gene': [gene], 'mean_group_a': [mean_group_a], 'mean_group_b': [mean_group_b], 'p_value': [p_value]})\n",
    "    \n",
    "    # Append the DataFrame to the list\n",
    "    results_dfs.append(gene_result_df)\n",
    "\n",
    "# Concatenate all the DataFrames in the list into one DataFrame\n",
    "results_df = pd.concat(results_dfs, ignore_index=True)\n",
    "\n",
    "# Correct for multiple testing (optional)\n",
    "results_df['adjusted_p_value'] = sm.multipletests(results_df['p_value'], method='fdr_bh')[1]\n",
    "\n",
    "# Filter the results based on a significance threshold, for example, adjusted p-value < 0.05\n",
    "significant_genes = results_df[results_df['adjusted_p_value'] < 0.05]"
   ],
   "metadata": {
    "collapsed": false
   },
   "id": "3723d5b6c5e24687"
  },
  {
   "cell_type": "code",
   "execution_count": null,
   "outputs": [],
   "source": [],
   "metadata": {
    "collapsed": false
   },
   "id": "17fd47b6533a0df7"
  }
 ],
 "metadata": {
  "kernelspec": {
   "name": "transcriptome_env",
   "language": "python",
   "display_name": "transcriptome_env"
  },
  "language_info": {
   "codemirror_mode": {
    "name": "ipython",
    "version": 2
   },
   "file_extension": ".py",
   "mimetype": "text/x-python",
   "name": "python",
   "nbconvert_exporter": "python",
   "pygments_lexer": "ipython2",
   "version": "2.7.6"
  }
 },
 "nbformat": 4,
 "nbformat_minor": 5
}
