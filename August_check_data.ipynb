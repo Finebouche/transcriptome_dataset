{
 "cells": [
  {
   "cell_type": "code",
   "execution_count": null,
   "metadata": {},
   "outputs": [],
   "source": [
    "import pandas as pd\n",
    "\n",
    "file_path = 'data/Supplemental_Data_Raw_Genecounts.csv'\n",
    "\n",
    "# Load the CSV file into a DataFrame.\n",
    "df = pd.read_csv(file_path)\n",
    "df = df.drop('Unnamed: 17', axis=1)\n",
    "df = df.rename(columns={\"Unnamed: 0\": \"mnra\",})\n",
    "df.set_index('mnra', inplace=True)\n",
    "# Convert every non-index column to int\n",
    "df = df.apply(pd.to_numeric, errors='coerce', downcast='integer')\n",
    "\n",
    "# Pruning rows where all the values are 0.\n",
    "# Assuming that you have columns 'x' and 'y', replace them with the actual names of your columns.\n",
    "print(df.shape)\n",
    "df = df[(df.loc[:, df.columns != 'index'] != 0).any(axis=1)]"
   ]
  },
  {
   "cell_type": "code",
   "execution_count": null,
   "metadata": {},
   "outputs": [],
   "source": [
    "columns_to_check = df.columns.difference(['Unnamed: 0'])\n",
    "\n",
    "# Pruning rows where all the values in columns_to_check are 0.\n",
    "df = df[(df[columns_to_check] != 0).any(axis=1)]\n"
   ]
  },
  {
   "cell_type": "code",
   "execution_count": null,
   "metadata": {},
   "outputs": [],
   "source": [
    "# Step 1: Calculate pairwise correlation\n",
    "correlation_matrix = df.corr(method='pearson')\n",
    "\n"
   ]
  },
  {
   "cell_type": "code",
   "execution_count": null,
   "metadata": {},
   "outputs": [],
   "source": [
    "correlation_matrix"
   ]
  },
  {
   "cell_type": "code",
   "execution_count": null,
   "metadata": {},
   "outputs": [],
   "source": [
    "filtered_corr_matrix = correlation_matrix.drop(index='B2.3.4', columns='B2.3.4')"
   ]
  },
  {
   "cell_type": "code",
   "execution_count": null,
   "metadata": {},
   "outputs": [],
   "source": [
    "import seaborn as sns\n",
    "import matplotlib.pyplot as plt\n",
    "sns.heatmap(filtered_corr_matrix, annot=False, cmap='viridis')\n",
    "plt.title('sample-sample Correlation Heatmap')\n",
    "plt.show()"
   ]
  },
  {
   "cell_type": "code",
   "execution_count": null,
   "metadata": {},
   "outputs": [],
   "source": [
    "import seaborn as sns\n",
    "import matplotlib.pyplot as plt\n",
    "sns.heatmap(correlation_matrix, annot=False, cmap='viridis')\n",
    "plt.title('sample-sample Correlation Heatmap')\n",
    "plt.show()"
   ]
  },
  {
   "cell_type": "code",
   "execution_count": null,
   "metadata": {},
   "outputs": [],
   "source": [
    "# Calculate gene-gene correlation matrix in a single line\n",
    "gene_correlation_matrix = df.T.corr(method='pearson')"
   ]
  },
  {
   "cell_type": "code",
   "execution_count": null,
   "metadata": {},
   "outputs": [],
   "source": [
    "gene_correlation_matrix"
   ]
  },
  {
   "cell_type": "code",
   "execution_count": null,
   "metadata": {},
   "outputs": [],
   "source": [
    "threshold = 0.8  # for example\n",
    "filtered_corr_matrix = gene_correlation_matrix[(gene_correlation_matrix >= threshold) & (gene_correlation_matrix != 1.0)]\n"
   ]
  },
  {
   "cell_type": "code",
   "execution_count": null,
   "metadata": {},
   "outputs": [],
   "source": [
    "import networkx as nx\n",
    "\n",
    "G = nx.Graph()\n",
    "\n",
    "for gene1 in filtered_corr_matrix.index:\n",
    "    for gene2 in filtered_corr_matrix.columns:\n",
    "        correlation = filtered_corr_matrix.loc[gene1, gene2]\n",
    "        if not np.isnan(correlation):\n",
    "            G.add_edge(gene1, gene2, weight=correlation)\n"
   ]
  },
  {
   "cell_type": "code",
   "execution_count": null,
   "metadata": {},
   "outputs": [],
   "source": [
    "import matplotlib.pyplot as plt\n",
    "\n",
    "plt.figure(figsize=(8, 8))\n",
    "pos = nx.spring_layout(G)  # positions for all nodes\n",
    "nx.draw(G, pos, with_labels=True, node_color=\"skyblue\", node_size=1000, font_size=10)\n",
    "plt.title(\"Initial Co-expression Network\")\n",
    "plt.show()\n"
   ]
  },
  {
   "cell_type": "code",
   "execution_count": null,
   "metadata": {},
   "outputs": [],
   "source": [
    "# Select first 100 genes for testing\n",
    "subset_corr_matrix = gene_correlation_matrix.iloc[:100, :100]\n",
    "threshold = 0.85  # for example\n",
    "filtered_subset_corr_matrix = subset_corr_matrix[(subset_corr_matrix >= threshold) & (subset_corr_matrix != 1.0)]\n",
    "\n",
    "G_subset = nx.Graph()\n",
    "\n",
    "for gene1 in filtered_subset_corr_matrix.index:\n",
    "    for gene2 in filtered_subset_corr_matrix.columns:\n",
    "        correlation = filtered_subset_corr_matrix.loc[gene1, gene2]\n",
    "        if not np.isnan(correlation):\n",
    "            G_subset.add_edge(gene1, gene2, weight=correlation)\n"
   ]
  },
  {
   "cell_type": "code",
   "execution_count": null,
   "metadata": {},
   "outputs": [],
   "source": [
    "\n",
    "pos_subset = nx.spring_layout(G_subset)\n",
    "fig, ax = plt.subplots(figsize=(8, 8))\n",
    "nx.draw(G_subset, pos_subset, ax=ax, with_labels=False, node_color=\"skyblue\", node_size=1, font_size=1)\n",
    "plt.title(\"Initial Co-expression Network (Subset)\")\n",
    "plt.show()"
   ]
  },
  {
   "cell_type": "code",
   "execution_count": null,
   "metadata": {},
   "outputs": [],
   "source": [
    "import community  # Python Louvain method library\n",
    "\n",
    "# First compute the best partition\n",
    "partition = community.best_partition(G_subset)\n",
    "\n",
    "# Create a new graph to represent the hierarchical structure\n",
    "G_hierarchy = nx.Graph()\n",
    "\n",
    "for node, mod_class in partition.items():\n",
    "    G_hierarchy.add_edge(node, f\"Module_{mod_class}\")\n",
    "\n",
    "# Generate layout and draw the hierarchical network\n",
    "pos_hierarchy = nx.spring_layout(G_hierarchy)\n",
    "fig, ax = plt.subplots(figsize=(8, 8))\n",
    "nx.draw(G_hierarchy, pos_hierarchy, with_labels=True, node_color=\"skyblue\", node_size=1000, font_size=10)\n",
    "plt.title(\"Hierarchical Co-expression Network\")\n",
    "plt.show()\n"
   ]
  }
 ],
 "metadata": {
  "kernelspec": {
   "display_name": "Python 3 (ipykernel)",
   "language": "python",
   "name": "python3"
  },
  "language_info": {
   "codemirror_mode": {
    "name": "ipython",
    "version": 3
   },
   "file_extension": ".py",
   "mimetype": "text/x-python",
   "name": "python",
   "nbconvert_exporter": "python",
   "pygments_lexer": "ipython3",
   "version": "3.11.5"
  },
  "vscode": {
   "interpreter": {
    "hash": "65476aa49da5f470f88b3f27224a96075356bf458b44d8ed0630182120e250ad"
   }
  }
 },
 "nbformat": 4,
 "nbformat_minor": 4
}
