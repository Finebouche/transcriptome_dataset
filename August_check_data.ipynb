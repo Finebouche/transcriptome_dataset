{
 "cells": [
  {
   "cell_type": "code",
   "execution_count": null,
   "metadata": {},
   "outputs": [],
   "source": [
    "import pandas as pd\n",
    "import seaborn as sns\n",
    "import matplotlib.pyplot as plt\n",
    "import numpy as np\n",
    "import networkx as nx\n",
    "\n",
    "file_path = 'data/Supplemental_Data_Raw_Genecounts.csv'\n",
    "\n",
    "# Load the CSV file into a DataFrame.\n",
    "df = pd.read_csv(file_path)\n",
    "df = df.drop('Unnamed: 17', axis=1)\n",
    "df = df.rename(columns={\"Unnamed: 0\": \"mnra\",})\n",
    "df.set_index('mnra', inplace=True)\n",
    "# Convert every non-index column to int\n",
    "df = df.apply(pd.to_numeric, errors='coerce', downcast='integer')\n",
    "\n",
    "# Pruning rows where all the values are 0.\n",
    "# Assuming that you have columns 'x' and 'y', replace them with the actual names of your columns.\n",
    "print(df.shape)\n",
    "df = df[(df.loc[:, df.columns != 'index'] != 0).any(axis=1)]"
   ]
  },
  {
   "cell_type": "code",
   "execution_count": null,
   "metadata": {},
   "outputs": [],
   "source": [
    "columns_to_check = df.columns.difference(['Unnamed: 0'])\n",
    "\n",
    "# Pruning rows where all the values in columns_to_check are 0.\n",
    "df = df[(df[columns_to_check] != 0).any(axis=1)]\n"
   ]
  },
  {
   "cell_type": "code",
   "execution_count": null,
   "metadata": {},
   "outputs": [],
   "source": [
    "# Step 1: Calculate pairwise correlation\n",
    "correlation_matrix = df.corr(method='pearson')\n",
    "\n"
   ]
  },
  {
   "cell_type": "code",
   "execution_count": null,
   "metadata": {},
   "outputs": [],
   "source": [
    "correlation_matrix"
   ]
  },
  {
   "cell_type": "code",
   "execution_count": null,
   "metadata": {},
   "outputs": [],
   "source": [
    "filtered_corr_matrix = correlation_matrix.drop(index='B2.3.4', columns='B2.3.4')"
   ]
  },
  {
   "cell_type": "code",
   "execution_count": null,
   "metadata": {},
   "outputs": [],
   "source": [
    "sns.heatmap(filtered_corr_matrix, annot=False, cmap='viridis')\n",
    "plt.title('sample-sample Correlation Heatmap')\n",
    "plt.show()"
   ]
  },
  {
   "cell_type": "code",
   "execution_count": null,
   "metadata": {},
   "outputs": [],
   "source": [
    "plt.figure()\n",
    "sns.heatmap(correlation_matrix, annot=False, cmap='viridis')\n",
    "plt.title('sample-sample Correlation Heatmap')\n",
    "plt.show()"
   ]
  },
  {
   "cell_type": "code",
   "execution_count": null,
   "metadata": {},
   "outputs": [],
   "source": [
    "# Calculate gene-gene correlation matrix in a single line\n",
    "gene_correlation_matrix = df.T.corr(method='pearson')"
   ]
  },
  {
   "cell_type": "code",
   "execution_count": null,
   "metadata": {},
   "outputs": [],
   "source": [
    "gene_correlation_matrix"
   ]
  },
  {
   "cell_type": "code",
   "execution_count": null,
   "metadata": {},
   "outputs": [],
   "source": [
    "# Select first 100 genes for testing\n",
    "subset_corr_matrix = gene_correlation_matrix.iloc[:400, :400]\n",
    "threshold = 0.90  # bootstrapping ?\n",
    "filtered_subset_corr_matrix = subset_corr_matrix[(abs(subset_corr_matrix) >= threshold) & (subset_corr_matrix != 1.0)]\n",
    "\n",
    "G_subset = nx.Graph()\n",
    "\n",
    "for gene1 in filtered_subset_corr_matrix.index:\n",
    "    for gene2 in filtered_subset_corr_matrix.columns:\n",
    "        correlation = filtered_subset_corr_matrix.loc[gene1, gene2]\n",
    "        if not np.isnan(correlation):\n",
    "            G_subset.add_edge(gene1, gene2, weight=correlation)\n"
   ]
  },
  {
   "cell_type": "code",
   "execution_count": null,
   "metadata": {},
   "outputs": [],
   "source": [
    "import seaborn as sns\n",
    "import matplotlib.pyplot as plt\n",
    "sns.heatmap(subset_corr_matrix, annot=False, cmap='viridis')\n",
    "plt.title('gene-gene Correlation Heatmap')\n",
    "plt.show()"
   ]
  },
  {
   "cell_type": "code",
   "execution_count": null,
   "metadata": {},
   "outputs": [],
   "source": [
    "import seaborn as sns\n",
    "import matplotlib.pyplot as plt\n",
    "sns.heatmap(filtered_subset_corr_matrix, annot=False, cmap='viridis')\n",
    "plt.title('gene-gene Correlation Heatmap')\n",
    "plt.show()"
   ]
  },
  {
   "cell_type": "code",
   "execution_count": null,
   "metadata": {},
   "outputs": [],
   "source": [
    "\n",
    "pos_subset = nx.spring_layout(G_subset)\n",
    "fig, ax = plt.subplots(figsize=(8, 8))\n",
    "nx.draw(G_subset, pos_subset, ax=ax, with_labels=True, node_color=\"skyblue\", node_size=1, font_size=10)\n",
    "plt.title(\"Initial Co-expression Network (Subset)\")\n",
    "plt.show()"
   ]
  },
  {
   "cell_type": "code",
   "execution_count": null,
   "metadata": {},
   "outputs": [],
   "source": [
    "import community  # Python Louvain method library\n",
    "\n",
    "# First compute the best partition\n",
    "partition = community.best_partition(G_subset)\n",
    "\n",
    "# Create a new graph to represent the hierarchical structure\n",
    "G_hierarchy = nx.Graph()\n",
    "\n",
    "for node, mod_class in partition.items():\n",
    "    G_hierarchy.add_edge(node, f\"Module_{mod_class}\")\n",
    "\n",
    "# Generate layout and draw the hierarchical network\n",
    "pos_hierarchy = nx.spring_layout(G_hierarchy)\n",
    "fig, ax = plt.subplots(figsize=(8, 8))\n",
    "nx.draw(G_hierarchy, pos_hierarchy, with_labels=True, node_color=\"skyblue\", node_size=1000, font_size=10)\n",
    "plt.title(\"Hierarchical Co-expression Network\")\n",
    "plt.show()\n"
   ]
  },
  {
   "cell_type": "code",
   "execution_count": null,
   "metadata": {},
   "outputs": [],
   "source": [
    "# Initialize a list to hold the colors for each node\n",
    "colors = [partition[node] for node in G_subset.nodes()]\n",
    "\n",
    "# Create the layout and plot the network\n",
    "pos_subset = nx.spring_layout(G_subset)\n",
    "fig, ax = plt.subplots(figsize=(32, 32))\n",
    "nx.draw(G_subset, pos_subset, ax=ax, with_labels=True, node_color=colors, cmap=plt.cm.rainbow, node_size=100, font_size=10)\n",
    "plt.title(\"Co-expression Network with Community Structure (Subset)\")\n",
    "plt.show()\n"
   ]
  },
  {
   "cell_type": "code",
   "execution_count": null,
   "metadata": {},
   "outputs": [],
   "source": [
    "# Initialize a list to hold the colors for each node\n",
    "colors = [partition[node] for node in G_subset.nodes()]\n",
    "\n",
    "# Create the layout and plot the network\n",
    "pos_subset = nx.spring_layout(G_subset)\n",
    "fig, ax = plt.subplots(figsize=(16, 16))\n",
    "nx.draw(G_subset, pos_subset, ax=ax, with_labels=True, node_color=colors, cmap=plt.cm.rainbow, node_size=30, font_size=10, edge_color=\"grey\", alpha=0.5)\n",
    "plt.title(\"Co-expression Network with Community Structure (Subset)\")\n",
    "plt.show()"
   ]
  },
  {
   "cell_type": "code",
   "execution_count": null,
   "metadata": {},
   "outputs": [],
   "source": [
    "# Select first 100 genes for testing\n",
    "subset_corr_matrix = gene_correlation_matrix.iloc[:400, :400]\n",
    "threshold = 0.90  # bootstrapping ?\n",
    "filtered_subset_corr_matrix = subset_corr_matrix[(abs(subset_corr_matrix) >= threshold) & (subset_corr_matrix != 1.0)]"
   ]
  },
  {
   "cell_type": "code",
   "execution_count": null,
   "metadata": {},
   "outputs": [],
   "source": [
    "filtered_subset_corr_matrix"
   ]
  },
  {
   "cell_type": "code",
   "execution_count": null,
   "metadata": {},
   "outputs": [],
   "source": [
    "from graph_tool.all import *\n",
    "import numpy as np\n",
    "\n",
    "# Convert DataFrame to NumPy array\n",
    "filtered_subset_corr_matrix_np = filtered_subset_corr_matrix.to_numpy()\n",
    "\n",
    "# Initialize Graph object\n",
    "g = Graph(directed=False)\n",
    "\n",
    "# Add vertices\n",
    "num_vertices = filtered_subset_corr_matrix_np.shape[0]\n",
    "for _ in range(num_vertices):\n",
    "    g.add_vertex()\n",
    "\n",
    "# Initialize edge weights\n",
    "e_weight = g.new_edge_property(\"double\")\n",
    "\n",
    "# Loop through the matrix to add edges and weights\n",
    "for i in range(num_vertices):\n",
    "    for j in range(i+1, num_vertices):\n",
    "        if filtered_subset_corr_matrix_np[i, j] != 0:\n",
    "            e = g.add_edge(i, j)\n",
    "            e_weight[e] = filtered_subset_corr_matrix_np[i, j]\n",
    "\n",
    "# Assign the edge weights to the graph\n",
    "g.ep[\"weight\"] = e_weight\n"
   ]
  },
  {
   "cell_type": "code",
   "execution_count": null,
   "metadata": {},
   "outputs": [],
   "source": [
    "from graph_tool.all import *\n",
    "import numpy as np\n",
    "\n",
    "# Convert DataFrame to NumPy array\n",
    "filtered_subset_corr_matrix_np = filtered_subset_corr_matrix.fillna(0).to_numpy()\n",
    "\n",
    "# Initialize Graph object\n",
    "g = Graph(directed=False)\n",
    "\n",
    "# Add vertices\n",
    "num_vertices = filtered_subset_corr_matrix_np.shape[0]\n",
    "for _ in range(num_vertices):\n",
    "    g.add_vertex()\n",
    "\n",
    "# Initialize edge weights\n",
    "e_weight = g.new_edge_property(\"double\")\n",
    "\n",
    "# Loop through the matrix to add edges and weights\n",
    "for i in range(num_vertices):\n",
    "    for j in range(i+1, num_vertices):\n",
    "        if filtered_subset_corr_matrix_np[i, j] != 0:\n",
    "            e = g.add_edge(i, j)\n",
    "            e_weight[e] = filtered_subset_corr_matrix_np[i, j]\n",
    "\n",
    "# Assign the edge weights to the graph\n",
    "g.ep[\"weight\"] = e_weight\n"
   ]
  },
  {
   "cell_type": "code",
   "execution_count": null,
   "metadata": {},
   "outputs": [],
   "source": [
    "from graph_tool.draw import graph_draw\n",
    "\n",
    "# 3D Visualization\n",
    "graph_draw(g, \n",
    "           edge_color=[1,1,1,1],\n",
    "           vertex_fill_color=[1,0,0,1],\n",
    "           output_size=(800, 800),\n",
    "           output=\"3D_network.png\",\n",
    "           bg_color=[0,0,0,1])\n"
   ]
  }
 ],
 "metadata": {
  "kernelspec": {
   "display_name": "Python 3.10.13 ('transcriptome_env')",
   "language": "python",
   "name": "python3"
  },
  "language_info": {
   "codemirror_mode": {
    "name": "ipython",
    "version": 3
   },
   "file_extension": ".py",
   "mimetype": "text/x-python",
   "name": "python",
   "nbconvert_exporter": "python",
   "pygments_lexer": "ipython3",
   "version": "3.10.12"
  },
  "vscode": {
   "interpreter": {
    "hash": "38b30904f0f28ee912ca099211e9286bc3bf4dc0cc18e8749c9bde3d39fc7336"
   }
  }
 },
 "nbformat": 4,
 "nbformat_minor": 4
}
